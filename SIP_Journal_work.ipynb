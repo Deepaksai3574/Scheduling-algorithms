{
  "metadata": {
    "kernelspec": {
      "language": "python",
      "display_name": "Python 3",
      "name": "python3"
    },
    "language_info": {
      "name": "python",
      "version": "3.10.13",
      "mimetype": "text/x-python",
      "codemirror_mode": {
        "name": "ipython",
        "version": 3
      },
      "pygments_lexer": "ipython3",
      "nbconvert_exporter": "python",
      "file_extension": ".py"
    },
    "kaggle": {
      "accelerator": "gpu",
      "dataSources": [
        {
          "sourceId": 861496,
          "sourceType": "datasetVersion",
          "datasetId": 457093
        }
      ],
      "dockerImageVersionId": 30648,
      "isInternetEnabled": true,
      "language": "python",
      "sourceType": "notebook",
      "isGpuEnabled": true
    },
    "colab": {
      "name": "SIP_Journal work",
      "provenance": [],
      "include_colab_link": true
    }
  },
  "nbformat_minor": 0,
  "nbformat": 4,
  "cells": [
    {
      "cell_type": "markdown",
      "metadata": {
        "id": "view-in-github",
        "colab_type": "text"
      },
      "source": [
        "<a href=\"https://colab.research.google.com/github/Deepaksai3574/Scheduling-algorithms/blob/main/SIP_Journal_work.ipynb\" target=\"_parent\"><img src=\"https://colab.research.google.com/assets/colab-badge.svg\" alt=\"Open In Colab\"/></a>"
      ]
    },
    {
      "source": [
        "\n",
        "# IMPORTANT: RUN THIS CELL IN ORDER TO IMPORT YOUR KAGGLE DATA SOURCES\n",
        "# TO THE CORRECT LOCATION (/kaggle/input) IN YOUR NOTEBOOK,\n",
        "# THEN FEEL FREE TO DELETE THIS CELL.\n",
        "# NOTE: THIS NOTEBOOK ENVIRONMENT DIFFERS FROM KAGGLE'S PYTHON\n",
        "# ENVIRONMENT SO THERE MAY BE MISSING LIBRARIES USED BY YOUR\n",
        "# NOTEBOOK.\n",
        "\n",
        "import os\n",
        "import sys\n",
        "from tempfile import NamedTemporaryFile\n",
        "from urllib.request import urlopen\n",
        "from urllib.parse import unquote, urlparse\n",
        "from urllib.error import HTTPError\n",
        "from zipfile import ZipFile\n",
        "import tarfile\n",
        "import shutil\n",
        "\n",
        "CHUNK_SIZE = 40960\n",
        "DATA_SOURCE_MAPPING = 'alzheimers-dataset-4-class-of-images:https%3A%2F%2Fstorage.googleapis.com%2Fkaggle-data-sets%2F457093%2F861496%2Fbundle%2Farchive.zip%3FX-Goog-Algorithm%3DGOOG4-RSA-SHA256%26X-Goog-Credential%3Dgcp-kaggle-com%2540kaggle-161607.iam.gserviceaccount.com%252F20240422%252Fauto%252Fstorage%252Fgoog4_request%26X-Goog-Date%3D20240422T151923Z%26X-Goog-Expires%3D259200%26X-Goog-SignedHeaders%3Dhost%26X-Goog-Signature%3D9a38cf58f340901568d44361abd5594575eeb4b962f9a2ea86739be2f09f2f7054c9314f9083f809c654371d36dccfc4adc2fdc16d2feec41c1aa4803a1277c23eb97d1ab1e533973a25847a2c5460fcc1f2e7e08102f46e02405851cfb2a991e6e9e1b4d61f0ac999da40ad041a653cae31090aa366e2b5333c8bd30f88351d89cc52fffeed4b48b015d65a3c2ff4508706683265c01e72479367f287fb6916a52728da8bc79cfd8ed2695f0a0d6c36f579c49fc7e6cc3dc2b05db2db131e147cbb8518acb3f6be30b9a93a2f2d6544bb7b5e84829f2b0f2f88753ac4ee1d9a4f8c693463a31bfe62bb926c210cf52ae8383d23a4b85f8d6349473bf95b3b92'\n",
        "\n",
        "KAGGLE_INPUT_PATH='/kaggle/input'\n",
        "KAGGLE_WORKING_PATH='/kaggle/working'\n",
        "KAGGLE_SYMLINK='kaggle'\n",
        "\n",
        "!umount /kaggle/input/ 2> /dev/null\n",
        "shutil.rmtree('/kaggle/input', ignore_errors=True)\n",
        "os.makedirs(KAGGLE_INPUT_PATH, 0o777, exist_ok=True)\n",
        "os.makedirs(KAGGLE_WORKING_PATH, 0o777, exist_ok=True)\n",
        "\n",
        "try:\n",
        "  os.symlink(KAGGLE_INPUT_PATH, os.path.join(\"..\", 'input'), target_is_directory=True)\n",
        "except FileExistsError:\n",
        "  pass\n",
        "try:\n",
        "  os.symlink(KAGGLE_WORKING_PATH, os.path.join(\"..\", 'working'), target_is_directory=True)\n",
        "except FileExistsError:\n",
        "  pass\n",
        "\n",
        "for data_source_mapping in DATA_SOURCE_MAPPING.split(','):\n",
        "    directory, download_url_encoded = data_source_mapping.split(':')\n",
        "    download_url = unquote(download_url_encoded)\n",
        "    filename = urlparse(download_url).path\n",
        "    destination_path = os.path.join(KAGGLE_INPUT_PATH, directory)\n",
        "    try:\n",
        "        with urlopen(download_url) as fileres, NamedTemporaryFile() as tfile:\n",
        "            total_length = fileres.headers['content-length']\n",
        "            print(f'Downloading {directory}, {total_length} bytes compressed')\n",
        "            dl = 0\n",
        "            data = fileres.read(CHUNK_SIZE)\n",
        "            while len(data) > 0:\n",
        "                dl += len(data)\n",
        "                tfile.write(data)\n",
        "                done = int(50 * dl / int(total_length))\n",
        "                sys.stdout.write(f\"\\r[{'=' * done}{' ' * (50-done)}] {dl} bytes downloaded\")\n",
        "                sys.stdout.flush()\n",
        "                data = fileres.read(CHUNK_SIZE)\n",
        "            if filename.endswith('.zip'):\n",
        "              with ZipFile(tfile) as zfile:\n",
        "                zfile.extractall(destination_path)\n",
        "            else:\n",
        "              with tarfile.open(tfile.name) as tarfile:\n",
        "                tarfile.extractall(destination_path)\n",
        "            print(f'\\nDownloaded and uncompressed: {directory}')\n",
        "    except HTTPError as e:\n",
        "        print(f'Failed to load (likely expired) {download_url} to path {destination_path}')\n",
        "        continue\n",
        "    except OSError as e:\n",
        "        print(f'Failed to load {download_url} to path {destination_path}')\n",
        "        continue\n",
        "\n",
        "print('Data source import complete.')\n"
      ],
      "metadata": {
        "id": "7S_6NCP5ZKrA"
      },
      "cell_type": "code",
      "outputs": [],
      "execution_count": null
    },
    {
      "cell_type": "code",
      "source": [
        "# This Python 3 environment comes with many helpful analytics libraries installed\n",
        "# It is defined by the kaggle/python Docker image: https://github.com/kaggle/docker-python\n",
        "# For example, here's several helpful packages to load\n",
        "\n",
        "import numpy as np # linear algebra\n",
        "import pandas as pd # data processing, CSV file I/O (e.g. pd.read_csv)\n",
        "\n",
        "# Input data files are available in the read-only \"../input/\" directory\n",
        "# For example, running this (by clicking run or pressing Shift+Enter) will list all files under the input directory\n",
        "\n",
        "import os\n",
        "for dirname, _, filenames in os.walk('/kaggle/input'):\n",
        "    for filename in filenames:\n",
        "        print(os.path.join(dirname, filename))\n",
        "\n",
        "# You can write up to 20GB to the current directory (/kaggle/working/) that gets preserved as output when you create a version using \"Save & Run All\"\n",
        "# You can also write temporary files to /kaggle/temp/, but they won't be saved outside of the current session"
      ],
      "metadata": {
        "_uuid": "8f2839f25d086af736a60e9eeb907d3b93b6e0e5",
        "_cell_guid": "b1076dfc-b9ad-4769-8c92-a6c4dae69d19",
        "execution": {
          "iopub.status.busy": "2024-02-22T06:59:57.824217Z",
          "iopub.execute_input": "2024-02-22T06:59:57.824607Z",
          "iopub.status.idle": "2024-02-22T07:00:00.785122Z",
          "shell.execute_reply.started": "2024-02-22T06:59:57.824577Z",
          "shell.execute_reply": "2024-02-22T07:00:00.783889Z"
        },
        "trusted": true,
        "id": "ZLzDaBYpZKrO"
      },
      "execution_count": null,
      "outputs": []
    },
    {
      "cell_type": "code",
      "source": [
        "import os\n",
        "import cv2\n",
        "import pandas as pd\n",
        "import numpy as np\n",
        "import matplotlib.pyplot as plt\n",
        "import seaborn as sns\n",
        "from sklearn.model_selection import train_test_split\n",
        "from sklearn.preprocessing import LabelEncoder\n",
        "from keras.preprocessing.image import ImageDataGenerator\n",
        "import keras\n",
        "from keras.callbacks import EarlyStopping, ModelCheckpoint\n",
        "from sklearn.metrics import confusion_matrix, classification_report\n",
        "from tqdm import tqdm\n",
        "from imblearn.over_sampling import SMOTE\n",
        "from keras.models import Sequential\n",
        "from keras.layers import Conv2D, MaxPooling2D, Flatten, Dense, Dropout\n",
        "from keras.applications import ResNet50, ResNet152, EfficientNetB0, EfficientNetB1, EfficientNetB2\n",
        "from keras import optimizers\n",
        "from sklearn.metrics import precision_score, recall_score, f1_score"
      ],
      "metadata": {
        "execution": {
          "iopub.status.busy": "2024-02-22T07:00:00.786863Z",
          "iopub.execute_input": "2024-02-22T07:00:00.787152Z",
          "iopub.status.idle": "2024-02-22T07:00:02.022019Z",
          "shell.execute_reply.started": "2024-02-22T07:00:00.787127Z",
          "shell.execute_reply": "2024-02-22T07:00:02.021222Z"
        },
        "trusted": true,
        "id": "jKZkqgdNZKrQ"
      },
      "execution_count": null,
      "outputs": []
    },
    {
      "cell_type": "code",
      "source": [
        "images = []\n",
        "labels = []\n",
        "for subfolder in tqdm(os.listdir('/kaggle/input/alzheimers-dataset-4-class-of-images/Alzheimer_s Dataset')):\n",
        "    subfolder_path = os.path.join('/kaggle/input/alzheimers-dataset-4-class-of-images/Alzheimer_s Dataset', subfolder)\n",
        "    for folder in os.listdir(subfolder_path):\n",
        "        subfolder_path2=os.path.join(subfolder_path,folder)\n",
        "        for image_filename in os.listdir(subfolder_path2):\n",
        "            image_path = os.path.join(subfolder_path2, image_filename)\n",
        "            images.append(image_path)\n",
        "            labels.append(folder)\n",
        "df = pd.DataFrame({'image': images, 'label': labels})\n",
        "df"
      ],
      "metadata": {
        "execution": {
          "iopub.status.busy": "2024-02-22T07:00:02.02341Z",
          "iopub.execute_input": "2024-02-22T07:00:02.02394Z",
          "iopub.status.idle": "2024-02-22T07:00:02.074434Z",
          "shell.execute_reply.started": "2024-02-22T07:00:02.023914Z",
          "shell.execute_reply": "2024-02-22T07:00:02.073554Z"
        },
        "trusted": true,
        "id": "1M9hMo3nZKrS"
      },
      "execution_count": null,
      "outputs": []
    },
    {
      "cell_type": "code",
      "source": [
        "plt.figure(figsize=(10, 10))\n",
        "labels = df['label'].value_counts().index\n",
        "sizes = df['label'].value_counts().values\n",
        "colors = sns.color_palette('Set1')\n",
        "\n",
        "plt.pie(sizes, labels=labels, colors=colors, autopct='%1.1f%%', startangle=140)\n",
        "plt.title('Distribution of Classes', fontsize=20)\n",
        "plt.show()"
      ],
      "metadata": {
        "execution": {
          "iopub.status.busy": "2024-02-22T07:00:02.076377Z",
          "iopub.execute_input": "2024-02-22T07:00:02.076643Z",
          "iopub.status.idle": "2024-02-22T07:00:02.257812Z",
          "shell.execute_reply.started": "2024-02-22T07:00:02.07662Z",
          "shell.execute_reply": "2024-02-22T07:00:02.256953Z"
        },
        "trusted": true,
        "id": "FLZgCIo1ZKrT"
      },
      "execution_count": null,
      "outputs": []
    },
    {
      "cell_type": "code",
      "source": [
        "plt.figure(figsize=(15,8))\n",
        "ax = sns.countplot(x=df.label,palette='Set1')\n",
        "ax.set_xlabel(\"Class\",fontsize=20)\n",
        "ax.set_ylabel(\"Count\",fontsize=20)\n",
        "plt.title('The Number Of Samples For Each Class',fontsize=20)\n",
        "plt.grid(True)\n",
        "plt.xticks(rotation=45)\n",
        "plt.show()"
      ],
      "metadata": {
        "execution": {
          "iopub.status.busy": "2024-02-22T07:00:02.258997Z",
          "iopub.execute_input": "2024-02-22T07:00:02.259387Z",
          "iopub.status.idle": "2024-02-22T07:00:02.547829Z",
          "shell.execute_reply.started": "2024-02-22T07:00:02.259349Z",
          "shell.execute_reply": "2024-02-22T07:00:02.546753Z"
        },
        "trusted": true,
        "id": "k5rspYjtZKrV"
      },
      "execution_count": null,
      "outputs": []
    },
    {
      "cell_type": "code",
      "source": [
        "plt.figure(figsize=(50,50))\n",
        "for n,i in enumerate(np.random.randint(0,len(df),50)):\n",
        "    plt.subplot(10,5,n+1)\n",
        "    img=cv2.imread(df.image[i])\n",
        "    img=cv2.resize(img,(224,224))\n",
        "    img=cv2.cvtColor(img,cv2.COLOR_BGR2RGB)\n",
        "    plt.imshow(img)\n",
        "    plt.axis('off')\n",
        "    plt.title(df.label[i],fontsize=25)"
      ],
      "metadata": {
        "execution": {
          "iopub.status.busy": "2024-02-22T07:00:02.54922Z",
          "iopub.execute_input": "2024-02-22T07:00:02.54972Z",
          "iopub.status.idle": "2024-02-22T07:00:09.810992Z",
          "shell.execute_reply.started": "2024-02-22T07:00:02.549675Z",
          "shell.execute_reply": "2024-02-22T07:00:09.809818Z"
        },
        "trusted": true,
        "id": "QwYO-0rVZKrW"
      },
      "execution_count": null,
      "outputs": []
    },
    {
      "cell_type": "code",
      "source": [
        "Size=(176,176)\n",
        "work_dr = ImageDataGenerator(\n",
        "    rescale = 1./255\n",
        ")\n",
        "train_data_gen = work_dr.flow_from_dataframe(df,x_col='image',y_col='label', target_size=Size, batch_size=6500, shuffle=False)"
      ],
      "metadata": {
        "execution": {
          "iopub.status.busy": "2024-02-22T07:00:09.812911Z",
          "iopub.execute_input": "2024-02-22T07:00:09.813984Z",
          "iopub.status.idle": "2024-02-22T07:00:14.949296Z",
          "shell.execute_reply.started": "2024-02-22T07:00:09.813942Z",
          "shell.execute_reply": "2024-02-22T07:00:14.94839Z"
        },
        "trusted": true,
        "id": "HVOYHujCZKrZ"
      },
      "execution_count": null,
      "outputs": []
    },
    {
      "cell_type": "code",
      "source": [
        "train_data, train_labels = train_data_gen.next()"
      ],
      "metadata": {
        "execution": {
          "iopub.status.busy": "2024-02-22T07:00:14.950527Z",
          "iopub.execute_input": "2024-02-22T07:00:14.950819Z",
          "iopub.status.idle": "2024-02-22T07:00:29.450323Z",
          "shell.execute_reply.started": "2024-02-22T07:00:14.950794Z",
          "shell.execute_reply": "2024-02-22T07:00:29.449563Z"
        },
        "trusted": true,
        "id": "pcFEt-LdZKra"
      },
      "execution_count": null,
      "outputs": []
    },
    {
      "cell_type": "code",
      "source": [
        "class_num=np.sort(['MildDemented','ModerateDemented','NonDemented','VeryMildDemented'])\n",
        "class_num"
      ],
      "metadata": {
        "execution": {
          "iopub.status.busy": "2024-02-22T07:00:29.451477Z",
          "iopub.execute_input": "2024-02-22T07:00:29.451769Z",
          "iopub.status.idle": "2024-02-22T07:00:29.457889Z",
          "shell.execute_reply.started": "2024-02-22T07:00:29.451744Z",
          "shell.execute_reply": "2024-02-22T07:00:29.456965Z"
        },
        "trusted": true,
        "id": "dOQ2tuc5ZKrc"
      },
      "execution_count": null,
      "outputs": []
    },
    {
      "cell_type": "code",
      "source": [
        "sm = SMOTE(random_state=42)\n",
        "train_data, train_labels = sm.fit_resample(train_data.reshape(-1, 176 * 176 * 3), train_labels)\n",
        "train_data = train_data.reshape(-1, 176,176, 3)\n",
        "print(train_data.shape, train_labels.shape)"
      ],
      "metadata": {
        "execution": {
          "iopub.status.busy": "2024-02-22T07:00:29.460689Z",
          "iopub.execute_input": "2024-02-22T07:00:29.460963Z",
          "iopub.status.idle": "2024-02-22T07:00:54.858821Z",
          "shell.execute_reply.started": "2024-02-22T07:00:29.460941Z",
          "shell.execute_reply": "2024-02-22T07:00:54.857851Z"
        },
        "trusted": true,
        "id": "8-A_HyEvZKrd"
      },
      "execution_count": null,
      "outputs": []
    },
    {
      "cell_type": "code",
      "source": [
        "labels=[class_num[i] for i in np.argmax(train_labels,axis=1) ]\n",
        "plt.figure(figsize=(15,8))\n",
        "ax = sns.countplot(x=labels,palette='Set1')\n",
        "ax.set_xlabel(\"Class\",fontsize=20)\n",
        "ax.set_ylabel(\"Count\",fontsize=20)\n",
        "plt.title('The Number Of Samples For Each Class',fontsize=20)\n",
        "plt.grid(True)\n",
        "plt.xticks(rotation=45)\n",
        "plt.show()"
      ],
      "metadata": {
        "execution": {
          "iopub.status.busy": "2024-02-22T07:00:54.860065Z",
          "iopub.execute_input": "2024-02-22T07:00:54.860674Z",
          "iopub.status.idle": "2024-02-22T07:00:55.157841Z",
          "shell.execute_reply.started": "2024-02-22T07:00:54.860637Z",
          "shell.execute_reply": "2024-02-22T07:00:55.156932Z"
        },
        "trusted": true,
        "id": "gDyqMqwRZKre"
      },
      "execution_count": null,
      "outputs": []
    },
    {
      "cell_type": "code",
      "source": [
        "labels = [class_num[i] for i in np.argmax(train_labels, axis=1)]\n",
        "\n",
        "plt.figure(figsize=(10, 10))\n",
        "unique_labels = np.unique(labels)\n",
        "sizes = [labels.count(label) for label in unique_labels]\n",
        "colors = sns.color_palette('Set1')\n",
        "\n",
        "plt.pie(sizes, labels=unique_labels, colors=colors, autopct='%1.1f%%', startangle=140)\n",
        "plt.title('Distribution of Classes', fontsize=20)\n",
        "plt.show()"
      ],
      "metadata": {
        "execution": {
          "iopub.status.busy": "2024-02-22T07:00:55.159219Z",
          "iopub.execute_input": "2024-02-22T07:00:55.159634Z",
          "iopub.status.idle": "2024-02-22T07:00:55.320301Z",
          "shell.execute_reply.started": "2024-02-22T07:00:55.159599Z",
          "shell.execute_reply": "2024-02-22T07:00:55.319451Z"
        },
        "trusted": true,
        "id": "fz4zHXcCZKrf"
      },
      "execution_count": null,
      "outputs": []
    },
    {
      "cell_type": "code",
      "source": [
        "X_train, X_test1, y_train, y_test1 = train_test_split(train_data,train_labels, test_size=0.3, random_state=42,shuffle=True,stratify=train_labels)\n",
        "X_val, X_test, y_val, y_test = train_test_split(X_test1,y_test1, test_size=0.5, random_state=42,shuffle=True,stratify=y_test1)\n",
        "print('X_train shape is ' , X_train.shape)\n",
        "print('X_test shape is ' , X_test.shape)\n",
        "print('X_val shape is ' , X_val.shape)\n",
        "print('y_train shape is ' , y_train.shape)\n",
        "print('y_test shape is ' , y_test.shape)\n",
        "print('y_val shape is ' , y_val.shape)"
      ],
      "metadata": {
        "execution": {
          "iopub.status.busy": "2024-02-22T07:00:55.321464Z",
          "iopub.execute_input": "2024-02-22T07:00:55.321802Z",
          "iopub.status.idle": "2024-02-22T07:00:57.193195Z",
          "shell.execute_reply.started": "2024-02-22T07:00:55.321771Z",
          "shell.execute_reply": "2024-02-22T07:00:57.192228Z"
        },
        "trusted": true,
        "id": "kZQ7lPrTZKrg"
      },
      "execution_count": null,
      "outputs": []
    },
    {
      "cell_type": "code",
      "source": [
        "cnn_model = Sequential()\n",
        "cnn_model.add(Conv2D(32, (3, 3), activation='relu', input_shape=(176, 176, 3)))\n",
        "cnn_model.add(MaxPooling2D((2, 2)))\n",
        "cnn_model.add(Conv2D(64, (3, 3), activation='relu'))\n",
        "cnn_model.add(MaxPooling2D((2, 2)))\n",
        "cnn_model.add(Conv2D(128, (3, 3), activation='relu'))\n",
        "cnn_model.add(MaxPooling2D((2, 2)))\n",
        "cnn_model.add(Flatten())\n",
        "cnn_model.add(Dense(128, activation='relu'))\n",
        "cnn_model.add(Dropout(0.5))\n",
        "cnn_model.add(Dense(4, activation='softmax'))\n",
        "\n",
        "# Compile the CNN model\n",
        "cnn_model.compile(optimizer='adam', loss='categorical_crossentropy', metrics=['accuracy'])\n",
        "\n",
        "# Train the CNN model\n",
        "cnn_history = cnn_model.fit(\n",
        "    X_train, y_train,\n",
        "    epochs=10,\n",
        "    validation_data=(X_val, y_val),\n",
        "    verbose=1\n",
        ")\n",
        "\n",
        "# Save the CNN model\n",
        "cnn_model.save('/kaggle/working/cnn_model.h5')"
      ],
      "metadata": {
        "execution": {
          "iopub.status.busy": "2024-02-22T07:00:57.196016Z",
          "iopub.execute_input": "2024-02-22T07:00:57.196349Z",
          "iopub.status.idle": "2024-02-22T07:02:28.128652Z",
          "shell.execute_reply.started": "2024-02-22T07:00:57.196321Z",
          "shell.execute_reply": "2024-02-22T07:02:28.127725Z"
        },
        "trusted": true,
        "id": "ls0ZRg3uZKrg"
      },
      "execution_count": null,
      "outputs": []
    },
    {
      "cell_type": "code",
      "source": [
        "resnet50_base_model = ResNet50(weights='imagenet', include_top=False, input_shape=(176, 176, 3))\n",
        "resnet50_model = Sequential()\n",
        "resnet50_model.add(resnet50_base_model)\n",
        "resnet50_model.add(Flatten())\n",
        "resnet50_model.add(Dense(256, activation='relu'))\n",
        "resnet50_model.add(Dropout(0.5))\n",
        "resnet50_model.add(Dense(4, activation='softmax'))\n",
        "resnet50_model.compile(\n",
        "    loss='categorical_crossentropy',\n",
        "    optimizer=optimizers.RMSprop(learning_rate=1e-4),\n",
        "    metrics=['accuracy']\n",
        ")\n",
        "\n",
        "# Train ResNet50 model\n",
        "resnet50_history = resnet50_model.fit(\n",
        "    X_train, y_train,\n",
        "    epochs=10,\n",
        "    validation_data=(X_val, y_val),\n",
        "    verbose=1\n",
        ")\n",
        "\n",
        "# Save ResNet50 model\n",
        "resnet50_model.save('/kaggle/working/resnet50_model.h5')"
      ],
      "metadata": {
        "execution": {
          "iopub.status.busy": "2024-02-22T07:02:28.12997Z",
          "iopub.execute_input": "2024-02-22T07:02:28.130659Z"
        },
        "trusted": true,
        "id": "kwLtV87fZKrh"
      },
      "execution_count": null,
      "outputs": []
    },
    {
      "cell_type": "code",
      "source": [
        "!pip install EfficientNet"
      ],
      "metadata": {
        "trusted": true,
        "id": "lrR-aNBrZKrh"
      },
      "execution_count": null,
      "outputs": []
    },
    {
      "cell_type": "code",
      "source": [
        "from keras.applications import ResNet152\n",
        "from efficientnet.keras import EfficientNetB2\n",
        "\n",
        "# ... (Your existing code)\n",
        "\n",
        "# Define ResNet152 model\n",
        "resnet152_base_model = ResNet152(weights='imagenet', include_top=False, input_shape=(176, 176, 3))\n",
        "\n",
        "# Freeze the initial 5 layers\n",
        "for layer in resnet152_base_model.layers[:5]:\n",
        "    layer.trainable = False\n",
        "\n",
        "resnet152_model = Sequential()\n",
        "resnet152_model.add(resnet152_base_model)\n",
        "resnet152_model.add(Flatten())\n",
        "resnet152_model.add(Dense(256, activation='relu'))\n",
        "resnet152_model.add(Dropout(0.5))\n",
        "resnet152_model.add(Dense(4, activation='softmax'))\n",
        "\n",
        "resnet152_model.compile(\n",
        "    loss='categorical_crossentropy',\n",
        "    optimizer=optimizers.RMSprop(learning_rate=1e-4),\n",
        "    metrics=['accuracy']\n",
        ")\n",
        "\n",
        "resnet152_history = resnet152_model.fit(\n",
        "    X_train, y_train,\n",
        "    epochs=10,\n",
        "    validation_data=(X_val, y_val),\n",
        "    verbose=1\n",
        ")\n",
        "\n",
        "# Save ResNet152 model\n",
        "resnet152_model.save('/kaggle/working/resnet152_model.h5')"
      ],
      "metadata": {
        "trusted": true,
        "id": "o73CNrIfZKri"
      },
      "execution_count": null,
      "outputs": []
    },
    {
      "cell_type": "code",
      "source": [
        "efficientnet_b2_model = Sequential()\n",
        "efficientnet_b2_model.add(EfficientNetB2(weights='imagenet', include_top=False, input_shape=(176, 176, 3)))\n",
        "efficientnet_b2_model.add(Flatten())\n",
        "efficientnet_b2_model.add(Dense(256, activation='relu'))\n",
        "efficientnet_b2_model.add(Dropout(0.5))\n",
        "efficientnet_b2_model.add(Dense(4, activation='softmax'))\n",
        "\n",
        "efficientnet_b2_model.compile(\n",
        "    loss='categorical_crossentropy',\n",
        "    optimizer=optimizers.RMSprop(learning_rate=1e-4),\n",
        "    metrics=['accuracy']\n",
        ")\n",
        "\n",
        "efficientnet_b2_history = efficientnet_b2_model.fit(\n",
        "    X_train, y_train,\n",
        "    epochs=10,\n",
        "    validation_data=(X_val, y_val),\n",
        "    verbose=1\n",
        ")\n",
        "\n",
        "# Save EfficientNetB2 model\n",
        "efficientnet_b2_model.save('/kaggle/working/efficientnet_b2_model.h5')"
      ],
      "metadata": {
        "trusted": true,
        "id": "YWpiPhSjZKrj"
      },
      "execution_count": null,
      "outputs": []
    },
    {
      "cell_type": "code",
      "source": [
        "# ... (your existing code)\n",
        "\n",
        "# Plot confusion matrices\n",
        "def plot_confusion_matrix(model_name, y_true, y_pred):\n",
        "    cm = confusion_matrix(y_true, y_pred)\n",
        "    plt.figure(figsize=(8, 6))\n",
        "    sns.heatmap(cm, annot=True, fmt='g', cmap='Blues', xticklabels=class_num, yticklabels=class_num)\n",
        "    plt.title(f'Confusion Matrix - {model_name} Model')\n",
        "    plt.xlabel('Predicted')\n",
        "    plt.ylabel('True')\n",
        "    plt.show()\n",
        "\n",
        "# Get predictions for each model on test data\n",
        "y_pred_cnn_test = cnn_model.predict(X_test).argmax(axis=1)\n",
        "y_pred_resnet50_test = resnet50_model.predict(X_test).argmax(axis=1)\n",
        "y_pred_resnet152_test = resnet152_model.predict(X_test).argmax(axis=1)\n",
        "y_pred_efficientnet_b2_test = efficientnet_b2_model.predict(X_test).argmax(axis=1)\n",
        "\n",
        "# Plot confusion matrices for test data\n",
        "plot_confusion_matrix('CNN', np.argmax(y_test, axis=1), y_pred_cnn_test)\n",
        "plot_confusion_matrix('ResNet50', np.argmax(y_test, axis=1), y_pred_resnet50_test)\n",
        "plot_confusion_matrix('ResNet152', np.argmax(y_test, axis=1), y_pred_resnet152_test)\n",
        "plot_confusion_matrix('EfficientNetB2', np.argmax(y_test, axis=1), y_pred_efficientnet_b2_test)\n",
        "\n",
        "# Plot training history (loss and accuracy) for each model\n",
        "def plot_training_history(model_name, history):\n",
        "    plt.plot(history.history['accuracy'], label='Train Accuracy')\n",
        "    plt.plot(history.history['val_accuracy'], label='Validation Accuracy')\n",
        "    plt.title(f'{model_name} Model Accuracy')\n",
        "    plt.xlabel('Epochs')\n",
        "    plt.ylabel('Accuracy')\n",
        "    plt.legend()\n",
        "    plt.show()\n",
        "\n",
        "    plt.plot(history.history['loss'], label='Train Loss')\n",
        "    plt.plot(history.history['val_loss'], label='Validation Loss')\n",
        "    plt.title(f'{model_name} Model Loss')\n",
        "    plt.xlabel('Epochs')\n",
        "    plt.ylabel('Loss')\n",
        "    plt.legend()\n",
        "    plt.show()\n",
        "\n",
        "# Plot training history for each model\n",
        "plot_training_history('CNN', cnn_history)\n",
        "plot_training_history('ResNet50', resnet50_history)\n",
        "plot_training_history('ResNet152', resnet152_history)\n",
        "plot_training_history('EfficientNetB2', efficientnet_b2_history)\n"
      ],
      "metadata": {
        "trusted": true,
        "id": "fkKJAUo0ZKrk"
      },
      "execution_count": null,
      "outputs": []
    }
  ]
}