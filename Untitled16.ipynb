{
  "nbformat": 4,
  "nbformat_minor": 0,
  "metadata": {
    "colab": {
      "provenance": [],
      "authorship_tag": "ABX9TyOKRW3FSNJxY90UaWTbLH9V",
      "include_colab_link": true
    },
    "kernelspec": {
      "name": "python3",
      "display_name": "Python 3"
    },
    "language_info": {
      "name": "python"
    }
  },
  "cells": [
    {
      "cell_type": "markdown",
      "metadata": {
        "id": "view-in-github",
        "colab_type": "text"
      },
      "source": [
        "<a href=\"https://colab.research.google.com/github/Deepaksai3574/Scheduling-algorithms/blob/main/Untitled16.ipynb\" target=\"_parent\"><img src=\"https://colab.research.google.com/assets/colab-badge.svg\" alt=\"Open In Colab\"/></a>"
      ]
    },
    {
      "cell_type": "markdown",
      "source": [
        "#DOT MATRIX"
      ],
      "metadata": {
        "id": "cMjGFHRn6vKz"
      }
    },
    {
      "cell_type": "code",
      "execution_count": 6,
      "metadata": {
        "id": "b6foe7YBuX8t",
        "colab": {
          "base_uri": "https://localhost:8080/",
          "height": 472
        },
        "outputId": "da7d34c7-f6c3-466b-c5e0-5365661c9bec"
      },
      "outputs": [
        {
          "output_type": "display_data",
          "data": {
            "text/plain": [
              "<Figure size 640x480 with 1 Axes>"
            ],
            "image/png": "[encoded data removed]"
          },
          "metadata": {}
        }
      ],
      "source": [
        "import matplotlib.pyplot as plt\n",
        "\n",
        "def dot_matrix(sequence1, sequence2):\n",
        "    len_seq1 = len(sequence1)\n",
        "    len_seq2 = len(sequence2)\n",
        "    dots_x = []\n",
        "    dots_y = []\n",
        "\n",
        "    for i in range(len_seq1):\n",
        "        for j in range(len_seq2):\n",
        "            if sequence1[i] == sequence2[j]:\n",
        "                dots_x.append(j)\n",
        "                dots_y.append(i)\n",
        "\n",
        "    return dots_x, dots_y\n",
        "\n",
        "def plot_dot_matrix(dots_x, dots_y, sequence1, sequence2):\n",
        "    plt.scatter(dots_x, dots_y, color='black', marker='.')\n",
        "    plt.xticks(range(len(sequence2)), list(sequence2))\n",
        "    plt.yticks(range(len(sequence1)), list(sequence1))\n",
        "    plt.xlabel('Sequence 2')\n",
        "    plt.ylabel('Sequence 1')\n",
        "    plt.title('Dot Matrix')\n",
        "    plt.show()\n",
        "\n",
        "# Example usage:\n",
        "seq1 = \"ATCGGCTAGTA\"\n",
        "seq2 = \"ATAGGCTATTG\"\n",
        "\n",
        "dots_x, dots_y = dot_matrix(seq1, seq2)\n",
        "plot_dot_matrix(dots_x, dots_y, seq1, seq2)\n"
      ]
    },
    {
      "cell_type": "markdown",
      "source": [
        "#LONGEST COMMON SUBSEQUENCE"
      ],
      "metadata": {
        "id": "N7-NWEjT62T8"
      }
    },
    {
      "cell_type": "code",
      "source": [
        "def longest_common_subsequence(seq1, seq2):\n",
        "    len_seq1 = len(seq1)\n",
        "    len_seq2 = len(seq2)\n",
        "\n",
        "    # Initialize the scoring matrix with zeros\n",
        "    scoring_matrix = [[0] * (len_seq2 + 1) for _ in range(len_seq1 + 1)]\n",
        "\n",
        "    # Fill in the scoring matrix\n",
        "    for i in range(1, len_seq1 + 1):\n",
        "        for j in range(1, len_seq2 + 1):\n",
        "            if seq1[i-1] == seq2[j-1]:\n",
        "                scoring_matrix[i][j] = scoring_matrix[i-1][j-1] + 1\n",
        "            else:\n",
        "                scoring_matrix[i][j] = max(scoring_matrix[i-1][j], scoring_matrix[i][j-1])\n",
        "\n",
        "    # Traceback to get the longest common subsequence\n",
        "    lcs = \"\"\n",
        "    i, j = len_seq1, len_seq2\n",
        "    while i > 0 and j > 0:\n",
        "        if seq1[i-1] == seq2[j-1]:\n",
        "            lcs = seq1[i-1] + lcs\n",
        "            i -= 1\n",
        "            j -= 1\n",
        "        elif scoring_matrix[i-1][j] >= scoring_matrix[i][j-1]:\n",
        "            i -= 1\n",
        "        else:\n",
        "            j -= 1\n",
        "\n",
        "    return scoring_matrix, lcs\n",
        "\n",
        "# Example usage:\n",
        "seq1 = \"ACGT\"\n",
        "seq2 = \"AGT\"\n",
        "\n",
        "scoring_matrix, lcs = longest_common_subsequence(seq1, seq2)\n",
        "\n",
        "print(\"Scoring Matrix:\")\n",
        "for row in scoring_matrix:\n",
        "    print(row)\n",
        "\n",
        "print(\"\\nLongest Common Subsequence:\", lcs)\n"
      ],
      "metadata": {
        "colab": {
          "base_uri": "https://localhost:8080/"
        },
        "id": "rMNPdkev6gi3",
        "outputId": "e797c040-53b0-4c6a-e568-cefc787f1d15"
      },
      "execution_count": 12,
      "outputs": [
        {
          "output_type": "stream",
          "name": "stdout",
          "text": [
            "Scoring Matrix:\n",
            "[0, 0, 0, 0]\n",
            "[0, 1, 1, 1]\n",
            "[0, 1, 1, 1]\n",
            "[0, 1, 2, 2]\n",
            "[0, 1, 2, 3]\n",
            "\n",
            "Longest Common Subsequence: AGT\n"
          ]
        }
      ]
    },
    {
      "cell_type": "markdown",
      "source": [
        "#NEEDLEMAN WUNSCH(GLOBAL ALIGNMENT)"
      ],
      "metadata": {
        "id": "mshqXVsr67JA"
      }
    },
    {
      "cell_type": "code",
      "source": [
        "def needleman_wunsch(seq1, seq2, match_score=1, mismatch_score=-1, gap_penalty=-2):\n",
        "    len_seq1 = len(seq1)\n",
        "    len_seq2 = len(seq2)\n",
        "\n",
        "    # Initialize the scoring matrix with zeros\n",
        "    scoring_matrix = [[0] * (len_seq2 + 1) for _ in range(len_seq1 + 1)]\n",
        "\n",
        "    # Initialize the first row and column with gap penalty\n",
        "    for i in range(1, len_seq1 + 1):\n",
        "        scoring_matrix[i][0] = scoring_matrix[i-1][0] + gap_penalty\n",
        "    for j in range(1, len_seq2 + 1):\n",
        "        scoring_matrix[0][j] = scoring_matrix[0][j-1] + gap_penalty\n",
        "\n",
        "    # Fill in the scoring matrix\n",
        "    for i in range(1, len_seq1 + 1):\n",
        "        for j in range(1, len_seq2 + 1):\n",
        "            if seq1[i-1] == seq2[j-1]:\n",
        "                match = match_score\n",
        "            else:\n",
        "                match = mismatch_score\n",
        "            scoring_matrix[i][j] = max(\n",
        "                scoring_matrix[i-1][j-1] + match,\n",
        "                scoring_matrix[i-1][j] + gap_penalty,\n",
        "                scoring_matrix[i][j-1] + gap_penalty\n",
        "            )\n",
        "\n",
        "    # Traceback to get the aligned sequences\n",
        "    aligned_seq1 = \"\"\n",
        "    aligned_seq2 = \"\"\n",
        "    i, j = len_seq1, len_seq2\n",
        "    while i > 0 and j > 0:\n",
        "        if seq1[i-1] == seq2[j-1]:\n",
        "            aligned_seq1 = seq1[i-1] + aligned_seq1\n",
        "            aligned_seq2 = seq2[j-1] + aligned_seq2\n",
        "            i -= 1\n",
        "            j -= 1\n",
        "        elif scoring_matrix[i][j] == scoring_matrix[i-1][j-1] + mismatch_score:\n",
        "            aligned_seq1 = seq1[i-1] + aligned_seq1\n",
        "            aligned_seq2 = seq2[j-1] + aligned_seq2\n",
        "            i -= 1\n",
        "            j -= 1\n",
        "        elif scoring_matrix[i][j] == scoring_matrix[i-1][j] + gap_penalty:\n",
        "            aligned_seq1 = seq1[i-1] + aligned_seq1\n",
        "            aligned_seq2 = \"-\" + aligned_seq2\n",
        "            i -= 1\n",
        "        else:\n",
        "            aligned_seq1 = \"-\" + aligned_seq1\n",
        "            aligned_seq2 = seq2[j-1] + aligned_seq2\n",
        "            j -= 1\n",
        "\n",
        "    while i > 0:\n",
        "        aligned_seq1 = seq1[i-1] + aligned_seq1\n",
        "        aligned_seq2 = \"-\" + aligned_seq2\n",
        "        i -= 1\n",
        "    while j > 0:\n",
        "        aligned_seq1 = \"-\" + aligned_seq1\n",
        "        aligned_seq2 = seq2[j-1] + aligned_seq2\n",
        "        j -= 1\n",
        "\n",
        "    alignment_score = scoring_matrix[len_seq1][len_seq2]\n",
        "\n",
        "    return scoring_matrix, aligned_seq1, aligned_seq2, alignment_score\n",
        "\n",
        "# Example usage:\n",
        "seq1 = \"ACGTACT\"\n",
        "seq2 = \"ATGTAAT\"\n",
        "\n",
        "scoring_matrix, aligned_seq1, aligned_seq2, alignment_score = needleman_wunsch(seq1, seq2)\n",
        "\n",
        "print(\"Scoring Matrix:\")\n",
        "for row in scoring_matrix:\n",
        "    print(row)\n",
        "\n",
        "print(\"\\nAligned Sequence 1:\", aligned_seq1)\n",
        "print(\"Aligned Sequence 2:\", aligned_seq2)\n",
        "print(\"Alignment Score:\", alignment_score)\n"
      ],
      "metadata": {
        "colab": {
          "base_uri": "https://localhost:8080/"
        },
        "id": "KMezACLD4iUW",
        "outputId": "b6def8ac-8aff-4d3e-c347-1e8a2e64b0b5"
      },
      "execution_count": 9,
      "outputs": [
        {
          "output_type": "stream",
          "name": "stdout",
          "text": [
            "Scoring Matrix:\n",
            "[0, -2, -4, -6, -8, -10, -12, -14]\n",
            "[-2, 1, -1, -3, -5, -7, -9, -11]\n",
            "[-4, -1, 0, -2, -4, -6, -8, -10]\n",
            "[-6, -3, -2, 1, -1, -3, -5, -7]\n",
            "[-8, -5, -2, -1, 2, 0, -2, -4]\n",
            "[-10, -7, -4, -3, 0, 3, 1, -1]\n",
            "[-12, -9, -6, -5, -2, 1, 2, 0]\n",
            "[-14, -11, -8, -7, -4, -1, 0, 3]\n",
            "\n",
            "Aligned Sequence 1: ACGTACT\n",
            "Aligned Sequence 2: ATGTAAT\n",
            "Alignment Score: 3\n"
          ]
        }
      ]
    },
    {
      "cell_type": "markdown",
      "source": [
        "#SMITH WATERMAN(LOCAL ALIGNMENT)"
      ],
      "metadata": {
        "id": "sXGwnAhI7EeK"
      }
    },
    {
      "cell_type": "code",
      "source": [
        "def smith_waterman(seq1, seq2, match_score=1, mismatch_score=-1, gap_penalty=-2):\n",
        "    len_seq1 = len(seq1)\n",
        "    len_seq2 = len(seq2)\n",
        "\n",
        "    # Initialize the scoring matrix with zeros\n",
        "    scoring_matrix = [[0] * (len_seq2 + 1) for _ in range(len_seq1 + 1)]\n",
        "\n",
        "    # Initialize the variables to track the maximum score and its position\n",
        "    max_score = 0\n",
        "    max_position = (0, 0)\n",
        "\n",
        "    # Fill in the scoring matrix\n",
        "    for i in range(1, len_seq1 + 1):\n",
        "        for j in range(1, len_seq2 + 1):\n",
        "            if seq1[i-1] == seq2[j-1]:\n",
        "                match = match_score\n",
        "            else:\n",
        "                match = mismatch_score\n",
        "            scoring_matrix[i][j] = max(\n",
        "                0,\n",
        "                scoring_matrix[i-1][j-1] + match,\n",
        "                scoring_matrix[i-1][j] + gap_penalty,\n",
        "                scoring_matrix[i][j-1] + gap_penalty\n",
        "            )\n",
        "            if scoring_matrix[i][j] > max_score:\n",
        "                max_score = scoring_matrix[i][j]\n",
        "                max_position = (i, j)\n",
        "\n",
        "    # Traceback to get the aligned sequences\n",
        "    aligned_seq1 = \"\"\n",
        "    aligned_seq2 = \"\"\n",
        "    i, j = max_position\n",
        "    while i > 0 and j > 0 and scoring_matrix[i][j] != 0:\n",
        "        if seq1[i-1] == seq2[j-1]:\n",
        "            aligned_seq1 = seq1[i-1] + aligned_seq1\n",
        "            aligned_seq2 = seq2[j-1] + aligned_seq2\n",
        "            i -= 1\n",
        "            j -= 1\n",
        "        elif scoring_matrix[i][j] == scoring_matrix[i-1][j-1] + mismatch_score:\n",
        "            aligned_seq1 = seq1[i-1] + aligned_seq1\n",
        "            aligned_seq2 = seq2[j-1] + aligned_seq2\n",
        "            i -= 1\n",
        "            j -= 1\n",
        "        elif scoring_matrix[i][j] == scoring_matrix[i-1][j] + gap_penalty:\n",
        "            aligned_seq1 = seq1[i-1] + aligned_seq1\n",
        "            aligned_seq2 = \"-\" + aligned_seq2\n",
        "            i -= 1\n",
        "        else:\n",
        "            aligned_seq1 = \"-\" + aligned_seq1\n",
        "            aligned_seq2 = seq2[j-1] + aligned_seq2\n",
        "            j -= 1\n",
        "\n",
        "    alignment_score = max_score\n",
        "\n",
        "    return scoring_matrix, aligned_seq1, aligned_seq2, alignment_score\n",
        "\n",
        "# Example usage:\n",
        "seq1 = \"ACGT\"\n",
        "seq2 = \"AGT\"\n",
        "\n",
        "scoring_matrix, aligned_seq1, aligned_seq2, alignment_score = smith_waterman(seq1, seq2)\n",
        "\n",
        "print(\"Scoring Matrix:\")\n",
        "for row in scoring_matrix:\n",
        "    print(row)\n",
        "\n",
        "print(\"\\nAligned Sequence 1:\", aligned_seq1)\n",
        "print(\"Aligned Sequence 2:\", aligned_seq2)\n",
        "print(\"Alignment Score:\", alignment_score)\n"
      ],
      "metadata": {
        "colab": {
          "base_uri": "https://localhost:8080/"
        },
        "id": "Kuj9c0Ck5d3t",
        "outputId": "52d10211-f237-4145-ec96-12919e3f5810"
      },
      "execution_count": 10,
      "outputs": [
        {
          "output_type": "stream",
          "name": "stdout",
          "text": [
            "Scoring Matrix:\n",
            "[0, 0, 0, 0]\n",
            "[0, 1, 0, 0]\n",
            "[0, 0, 0, 0]\n",
            "[0, 0, 1, 0]\n",
            "[0, 0, 0, 2]\n",
            "\n",
            "Aligned Sequence 1: GT\n",
            "Aligned Sequence 2: GT\n",
            "Alignment Score: 2\n"
          ]
        }
      ]
    },
    {
      "cell_type": "code",
      "source": [],
      "metadata": {
        "id": "lAkQqmQL58mP"
      },
      "execution_count": 11,
      "outputs": []
    }
  ]
}